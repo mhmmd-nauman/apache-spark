{
  "nbformat": 4,
  "nbformat_minor": 0,
  "metadata": {
    "colab": {
      "provenance": []
    },
    "kernelspec": {
      "name": "python3",
      "display_name": "Python 3"
    },
    "language_info": {
      "name": "python"
    }
  },
  "cells": [
    {
      "cell_type": "code",
      "execution_count": 54,
      "metadata": {
        "colab": {
          "base_uri": "https://localhost:8080/"
        },
        "id": "6MayWVQMiAOZ",
        "outputId": "5a633d29-c127-4305-cfcd-d55dc62fea6b"
      },
      "outputs": [
        {
          "output_type": "stream",
          "name": "stdout",
          "text": [
            "Reading package lists... Done\n",
            "Building dependency tree       \n",
            "Reading state information... Done\n",
            "openjdk-8-jdk is already the newest version (8u372-ga~us1-0ubuntu1~20.04).\n",
            "0 upgraded, 0 newly installed, 0 to remove and 34 not upgraded.\n"
          ]
        }
      ],
      "source": [
        "#Install Java Development kit for Spark\n",
        "!apt-get install openjdk-8-jdk"
      ]
    },
    {
      "cell_type": "code",
      "source": [
        "import os"
      ],
      "metadata": {
        "id": "B7nWAQLqiNOl"
      },
      "execution_count": 55,
      "outputs": []
    },
    {
      "cell_type": "code",
      "source": [
        "#Set the JAVA_HOME env variable\n",
        "os.environ[\"JAVA_HOME\"]=\"/usr/lib/jvm/java-8-openjdk-amd64\""
      ],
      "metadata": {
        "id": "7ztLDz1diYxG"
      },
      "execution_count": 56,
      "outputs": []
    },
    {
      "cell_type": "code",
      "source": [
        "#Current working directory\n",
        "!pwd"
      ],
      "metadata": {
        "id": "cuzd6YJTicOg",
        "colab": {
          "base_uri": "https://localhost:8080/"
        },
        "outputId": "c19dba20-850a-41fc-9712-c659a1a4927e"
      },
      "execution_count": 57,
      "outputs": [
        {
          "output_type": "stream",
          "name": "stdout",
          "text": [
            "/content\n"
          ]
        }
      ]
    },
    {
      "cell_type": "code",
      "source": [
        "!echo $JAVA_HOME"
      ],
      "metadata": {
        "id": "jcVmTrzsilO6",
        "colab": {
          "base_uri": "https://localhost:8080/"
        },
        "outputId": "32838ef0-9e77-4ef7-c2be-4981f1af41e7"
      },
      "execution_count": 58,
      "outputs": [
        {
          "output_type": "stream",
          "name": "stdout",
          "text": [
            "/usr/lib/jvm/java-8-openjdk-amd64\n"
          ]
        }
      ]
    },
    {
      "cell_type": "code",
      "source": [
        "#Install PySpark with latest version\n",
        "!pip install pyspark==3.0.0"
      ],
      "metadata": {
        "id": "F9UiphOjjzKW",
        "outputId": "099dd9cb-d532-43af-839c-6c80330640e7",
        "colab": {
          "base_uri": "https://localhost:8080/"
        }
      },
      "execution_count": 59,
      "outputs": [
        {
          "output_type": "stream",
          "name": "stdout",
          "text": [
            "Looking in indexes: https://pypi.org/simple, https://us-python.pkg.dev/colab-wheels/public/simple/\n",
            "Requirement already satisfied: pyspark==3.0.0 in /usr/local/lib/python3.10/dist-packages (3.0.0)\n",
            "Requirement already satisfied: py4j==0.10.9 in /usr/local/lib/python3.10/dist-packages (from pyspark==3.0.0) (0.10.9)\n"
          ]
        }
      ]
    },
    {
      "cell_type": "code",
      "source": [
        "!pip install findspark\n",
        "import findspark\n",
        "findspark.init()"
      ],
      "metadata": {
        "colab": {
          "base_uri": "https://localhost:8080/"
        },
        "id": "CYKEhR35xcpX",
        "outputId": "006af04c-0fb3-4c69-bc9a-4d122788b157"
      },
      "execution_count": 60,
      "outputs": [
        {
          "output_type": "stream",
          "name": "stdout",
          "text": [
            "Looking in indexes: https://pypi.org/simple, https://us-python.pkg.dev/colab-wheels/public/simple/\n",
            "Requirement already satisfied: findspark in /usr/local/lib/python3.10/dist-packages (2.0.1)\n"
          ]
        }
      ]
    },
    {
      "cell_type": "code",
      "source": [
        "from pyspark.sql import SparkSession, SQLContext\n",
        "spark = SparkSession.builder.master(\"local\").appName(\"Test Spark\").config(\"spark.some.config.option\", \"some-value\").getOrCreate()"
      ],
      "metadata": {
        "id": "G27pbismyUDP"
      },
      "execution_count": 61,
      "outputs": []
    },
    {
      "cell_type": "code",
      "source": [
        "sc = spark.sparkContext"
      ],
      "metadata": {
        "id": "vSnd435oyYim"
      },
      "execution_count": 62,
      "outputs": []
    },
    {
      "cell_type": "code",
      "source": [
        "spark"
      ],
      "metadata": {
        "colab": {
          "base_uri": "https://localhost:8080/",
          "height": 219
        },
        "id": "tfJHNwsHyuF-",
        "outputId": "091a943f-a797-45a3-afee-b7530d1548d5"
      },
      "execution_count": 63,
      "outputs": [
        {
          "output_type": "execute_result",
          "data": {
            "text/plain": [
              "<pyspark.sql.session.SparkSession at 0x7ff34852d1b0>"
            ],
            "text/html": [
              "\n",
              "            <div>\n",
              "                <p><b>SparkSession - in-memory</b></p>\n",
              "                \n",
              "        <div>\n",
              "            <p><b>SparkContext</b></p>\n",
              "\n",
              "            <p><a href=\"http://a75dc87ad2b2:4040\">Spark UI</a></p>\n",
              "\n",
              "            <dl>\n",
              "              <dt>Version</dt>\n",
              "                <dd><code>v3.0.0</code></dd>\n",
              "              <dt>Master</dt>\n",
              "                <dd><code>local</code></dd>\n",
              "              <dt>AppName</dt>\n",
              "                <dd><code>Test Spark</code></dd>\n",
              "            </dl>\n",
              "        </div>\n",
              "        \n",
              "            </div>\n",
              "        "
            ]
          },
          "metadata": {},
          "execution_count": 63
        }
      ]
    },
    {
      "cell_type": "code",
      "source": [
        "#mount your drive\n",
        "from google.colab import drive\n",
        "drive.mount('/content/drive')"
      ],
      "metadata": {
        "colab": {
          "base_uri": "https://localhost:8080/"
        },
        "id": "eXO-5ODP0xDg",
        "outputId": "0a7621a9-f675-4eba-cc96-ec6a05c5b101"
      },
      "execution_count": 64,
      "outputs": [
        {
          "output_type": "stream",
          "name": "stdout",
          "text": [
            "Drive already mounted at /content/drive; to attempt to forcibly remount, call drive.mount(\"/content/drive\", force_remount=True).\n"
          ]
        }
      ]
    },
    {
      "cell_type": "code",
      "source": [
        "#Read the csv file\n",
        "df=spark.read.csv('/content/drive/MyDrive/Colab Notebooks/bank.csv',inferSchema=True,header=True)"
      ],
      "metadata": {
        "id": "DxMXhclX077_"
      },
      "execution_count": 65,
      "outputs": []
    },
    {
      "cell_type": "code",
      "source": [
        "#Check dimension's\n",
        "print((df.count(),len(df.columns)))"
      ],
      "metadata": {
        "colab": {
          "base_uri": "https://localhost:8080/"
        },
        "id": "WxihxvKV1X2g",
        "outputId": "ae06b868-8982-4116-e501-06390b3e0918"
      },
      "execution_count": 66,
      "outputs": [
        {
          "output_type": "stream",
          "name": "stdout",
          "text": [
            "(11162, 17)\n"
          ]
        }
      ]
    },
    {
      "cell_type": "code",
      "source": [
        "#Check for the schema\n",
        "df.printSchema()"
      ],
      "metadata": {
        "colab": {
          "base_uri": "https://localhost:8080/"
        },
        "id": "BamX7lEs1abP",
        "outputId": "47ef4b2b-050c-4ad3-bbef-24336843e669"
      },
      "execution_count": 67,
      "outputs": [
        {
          "output_type": "stream",
          "name": "stdout",
          "text": [
            "root\n",
            " |-- age: integer (nullable = true)\n",
            " |-- job: string (nullable = true)\n",
            " |-- marital: string (nullable = true)\n",
            " |-- education: string (nullable = true)\n",
            " |-- default: string (nullable = true)\n",
            " |-- balance: integer (nullable = true)\n",
            " |-- housing: string (nullable = true)\n",
            " |-- loan: string (nullable = true)\n",
            " |-- contact: string (nullable = true)\n",
            " |-- day: integer (nullable = true)\n",
            " |-- month: string (nullable = true)\n",
            " |-- duration: integer (nullable = true)\n",
            " |-- campaign: integer (nullable = true)\n",
            " |-- pdays: integer (nullable = true)\n",
            " |-- previous: integer (nullable = true)\n",
            " |-- poutcome: string (nullable = true)\n",
            " |-- deposit: string (nullable = true)\n",
            "\n"
          ]
        }
      ]
    },
    {
      "cell_type": "code",
      "source": [
        "#Top 5 records\n",
        "df.show(5)"
      ],
      "metadata": {
        "colab": {
          "base_uri": "https://localhost:8080/"
        },
        "id": "-xThEKlE2KoP",
        "outputId": "7384f93d-2dbc-477d-92e2-282754cb1029"
      },
      "execution_count": 68,
      "outputs": [
        {
          "output_type": "stream",
          "name": "stdout",
          "text": [
            "+---+----------+-------+---------+-------+-------+-------+----+-------+---+-----+--------+--------+-----+--------+--------+-------+\n",
            "|age|       job|marital|education|default|balance|housing|loan|contact|day|month|duration|campaign|pdays|previous|poutcome|deposit|\n",
            "+---+----------+-------+---------+-------+-------+-------+----+-------+---+-----+--------+--------+-----+--------+--------+-------+\n",
            "| 59|    admin.|married|secondary|     no|   2343|    yes|  no|unknown|  5|  may|    1042|       1|   -1|       0| unknown|    yes|\n",
            "| 56|    admin.|married|secondary|     no|     45|     no|  no|unknown|  5|  may|    1467|       1|   -1|       0| unknown|    yes|\n",
            "| 41|technician|married|secondary|     no|   1270|    yes|  no|unknown|  5|  may|    1389|       1|   -1|       0| unknown|    yes|\n",
            "| 55|  services|married|secondary|     no|   2476|    yes|  no|unknown|  5|  may|     579|       1|   -1|       0| unknown|    yes|\n",
            "| 54|    admin.|married| tertiary|     no|    184|     no|  no|unknown|  5|  may|     673|       2|   -1|       0| unknown|    yes|\n",
            "+---+----------+-------+---------+-------+-------+-------+----+-------+---+-----+--------+--------+-----+--------+--------+-------+\n",
            "only showing top 5 rows\n",
            "\n"
          ]
        }
      ]
    },
    {
      "cell_type": "code",
      "source": [
        "\n",
        "#Datatypes of the columns\n",
        "df.dtypes"
      ],
      "metadata": {
        "colab": {
          "base_uri": "https://localhost:8080/"
        },
        "id": "oxlB3pQ-2N1W",
        "outputId": "bd8b5427-254d-45bc-a56c-84c0d5df9d26"
      },
      "execution_count": 69,
      "outputs": [
        {
          "output_type": "execute_result",
          "data": {
            "text/plain": [
              "[('age', 'int'),\n",
              " ('job', 'string'),\n",
              " ('marital', 'string'),\n",
              " ('education', 'string'),\n",
              " ('default', 'string'),\n",
              " ('balance', 'int'),\n",
              " ('housing', 'string'),\n",
              " ('loan', 'string'),\n",
              " ('contact', 'string'),\n",
              " ('day', 'int'),\n",
              " ('month', 'string'),\n",
              " ('duration', 'int'),\n",
              " ('campaign', 'int'),\n",
              " ('pdays', 'int'),\n",
              " ('previous', 'int'),\n",
              " ('poutcome', 'string'),\n",
              " ('deposit', 'string')]"
            ]
          },
          "metadata": {},
          "execution_count": 69
        }
      ]
    },
    {
      "cell_type": "code",
      "source": [
        "\n",
        "#Drop unwanted columns\n",
        "my_data = df.drop(*['contact', 'day', 'month','default'])\n",
        "my_data.columns"
      ],
      "metadata": {
        "colab": {
          "base_uri": "https://localhost:8080/"
        },
        "id": "hiuUkHp32Rms",
        "outputId": "80991af6-c2e8-4bd1-df88-97c7624176a9"
      },
      "execution_count": 70,
      "outputs": [
        {
          "output_type": "execute_result",
          "data": {
            "text/plain": [
              "['age',\n",
              " 'job',\n",
              " 'marital',\n",
              " 'education',\n",
              " 'balance',\n",
              " 'housing',\n",
              " 'loan',\n",
              " 'duration',\n",
              " 'campaign',\n",
              " 'pdays',\n",
              " 'previous',\n",
              " 'poutcome',\n",
              " 'deposit']"
            ]
          },
          "metadata": {},
          "execution_count": 70
        }
      ]
    },
    {
      "cell_type": "code",
      "source": [
        "# get the dimensions of the data\n",
        "(my_data.count() , len(my_data.columns))"
      ],
      "metadata": {
        "colab": {
          "base_uri": "https://localhost:8080/"
        },
        "id": "c0yb0DFh2TCn",
        "outputId": "ceea039f-e63d-4457-c624-7a203a8018a9"
      },
      "execution_count": 71,
      "outputs": [
        {
          "output_type": "execute_result",
          "data": {
            "text/plain": [
              "(11162, 13)"
            ]
          },
          "metadata": {},
          "execution_count": 71
        }
      ]
    },
    {
      "cell_type": "code",
      "source": [
        "my_data.describe().show()"
      ],
      "metadata": {
        "colab": {
          "base_uri": "https://localhost:8080/"
        },
        "id": "ElCzq03y2YAX",
        "outputId": "4850f41b-086f-4408-9fc0-ff20214c19b4"
      },
      "execution_count": 72,
      "outputs": [
        {
          "output_type": "stream",
          "name": "stdout",
          "text": [
            "+-------+------------------+-------+--------+---------+------------------+-------+-----+------------------+------------------+------------------+------------------+--------+-------+\n",
            "|summary|               age|    job| marital|education|           balance|housing| loan|          duration|          campaign|             pdays|          previous|poutcome|deposit|\n",
            "+-------+------------------+-------+--------+---------+------------------+-------+-----+------------------+------------------+------------------+------------------+--------+-------+\n",
            "|  count|             11162|  11162|   11162|    11162|             11162|  11162|11162|             11162|             11162|             11162|             11162|   11162|  11162|\n",
            "|   mean|41.231947679627304|   null|    null|     null|1528.5385235620856|   null| null|371.99381831213043| 2.508421429851281| 51.33040673714388|0.8325568894463358|    null|   null|\n",
            "| stddev|11.913369192215518|   null|    null|     null| 3225.413325946149|   null| null|347.12838571630687|2.7220771816614824|108.75828197197717| 2.292007218670508|    null|   null|\n",
            "|    min|                18| admin.|divorced|  primary|             -6847|     no|   no|                 2|                 1|                -1|                 0| failure|     no|\n",
            "|    max|                95|unknown|  single|  unknown|             81204|    yes|  yes|              3881|                63|               854|                58| unknown|    yes|\n",
            "+-------+------------------+-------+--------+---------+------------------+-------+-----+------------------+------------------+------------------+------------------+--------+-------+\n",
            "\n"
          ]
        }
      ]
    },
    {
      "cell_type": "code",
      "source": [
        "# import sql function pyspark\n",
        "import pyspark.sql.functions as f\n",
        "\n",
        "# null values in each column\n",
        "data_agg = my_data.agg(*[f.count(f.when(f.isnull(c), c)).alias(c) for c in my_data.columns])\n",
        "data_agg.show()\n",
        "     "
      ],
      "metadata": {
        "colab": {
          "base_uri": "https://localhost:8080/"
        },
        "id": "xiSOPtZv2aBF",
        "outputId": "b891420b-7ea9-4e6f-f0d8-f3332b0aba5b"
      },
      "execution_count": 73,
      "outputs": [
        {
          "output_type": "stream",
          "name": "stdout",
          "text": [
            "+---+---+-------+---------+-------+-------+----+--------+--------+-----+--------+--------+-------+\n",
            "|age|job|marital|education|balance|housing|loan|duration|campaign|pdays|previous|poutcome|deposit|\n",
            "+---+---+-------+---------+-------+-------+----+--------+--------+-----+--------+--------+-------+\n",
            "|  0|  0|      0|        0|      0|      0|   0|       0|       0|    0|       0|       0|      0|\n",
            "+---+---+-------+---------+-------+-------+----+--------+--------+-----+--------+--------+-------+\n",
            "\n"
          ]
        }
      ]
    },
    {
      "cell_type": "code",
      "source": [
        "\n",
        "# value counts of columns\n",
        "my_data.groupBy('job').count().show()\n",
        "print()\n",
        "my_data.groupBy('marital').count().show()\n",
        "print()\n",
        "my_data.groupBy('education').count().show()\n",
        "print()\n",
        "my_data.groupBy('loan').count().show()\n",
        "print()\n",
        "my_data.groupBy('poutcome').count().show()\n",
        "print()\n",
        "my_data.groupBy('deposit').count().show()"
      ],
      "metadata": {
        "colab": {
          "base_uri": "https://localhost:8080/"
        },
        "id": "iO_znrzf2hKI",
        "outputId": "02b1e6d8-8a20-40d1-a1f6-cf8f3ae10e2e"
      },
      "execution_count": 74,
      "outputs": [
        {
          "output_type": "stream",
          "name": "stdout",
          "text": [
            "+-------------+-----+\n",
            "|          job|count|\n",
            "+-------------+-----+\n",
            "|   management| 2566|\n",
            "|      retired|  778|\n",
            "|      unknown|   70|\n",
            "|self-employed|  405|\n",
            "|      student|  360|\n",
            "|  blue-collar| 1944|\n",
            "| entrepreneur|  328|\n",
            "|       admin.| 1334|\n",
            "|   technician| 1823|\n",
            "|     services|  923|\n",
            "|    housemaid|  274|\n",
            "|   unemployed|  357|\n",
            "+-------------+-----+\n",
            "\n",
            "\n",
            "+--------+-----+\n",
            "| marital|count|\n",
            "+--------+-----+\n",
            "|divorced| 1293|\n",
            "| married| 6351|\n",
            "|  single| 3518|\n",
            "+--------+-----+\n",
            "\n",
            "\n",
            "+---------+-----+\n",
            "|education|count|\n",
            "+---------+-----+\n",
            "|  unknown|  497|\n",
            "| tertiary| 3689|\n",
            "|secondary| 5476|\n",
            "|  primary| 1500|\n",
            "+---------+-----+\n",
            "\n",
            "\n",
            "+----+-----+\n",
            "|loan|count|\n",
            "+----+-----+\n",
            "|  no| 9702|\n",
            "| yes| 1460|\n",
            "+----+-----+\n",
            "\n",
            "\n",
            "+--------+-----+\n",
            "|poutcome|count|\n",
            "+--------+-----+\n",
            "| success| 1071|\n",
            "| unknown| 8326|\n",
            "|   other|  537|\n",
            "| failure| 1228|\n",
            "+--------+-----+\n",
            "\n",
            "\n",
            "+-------+-----+\n",
            "|deposit|count|\n",
            "+-------+-----+\n",
            "|     no| 5873|\n",
            "|    yes| 5289|\n",
            "+-------+-----+\n",
            "\n"
          ]
        }
      ]
    },
    {
      "cell_type": "code",
      "source": [
        "my_data.dtypes"
      ],
      "metadata": {
        "colab": {
          "base_uri": "https://localhost:8080/"
        },
        "id": "3bhoOkuw2p-n",
        "outputId": "d37d8e5b-2853-44bb-e641-37e678fc6950"
      },
      "execution_count": 75,
      "outputs": [
        {
          "output_type": "execute_result",
          "data": {
            "text/plain": [
              "[('age', 'int'),\n",
              " ('job', 'string'),\n",
              " ('marital', 'string'),\n",
              " ('education', 'string'),\n",
              " ('balance', 'int'),\n",
              " ('housing', 'string'),\n",
              " ('loan', 'string'),\n",
              " ('duration', 'int'),\n",
              " ('campaign', 'int'),\n",
              " ('pdays', 'int'),\n",
              " ('previous', 'int'),\n",
              " ('poutcome', 'string'),\n",
              " ('deposit', 'string')]"
            ]
          },
          "metadata": {},
          "execution_count": 75
        }
      ]
    },
    {
      "cell_type": "code",
      "source": [
        "#Preprocessing steps\n",
        "from pyspark.ml.feature import StringIndexer, OneHotEncoder\n",
        "\n",
        "# create object of StringIndexer class and specify input and output column\n",
        "SI_job = StringIndexer(inputCol='job',outputCol='job_Index')\n",
        "SI_marital = StringIndexer(inputCol='marital',outputCol='marital_Index')\n",
        "SI_education = StringIndexer(inputCol='education',outputCol='education_Index')\n",
        "SI_housing = StringIndexer(inputCol='housing',outputCol='housing_Index')\n",
        "SI_loan = StringIndexer(inputCol='loan',outputCol='loan_Index')\n",
        "SI_poutcome = StringIndexer(inputCol='poutcome',outputCol='poutcome_Index')\n",
        "SI_deposit = StringIndexer(inputCol='deposit',outputCol='deposit_Index')\n",
        "\n",
        "\n",
        "# transform the data\n",
        "my_data = SI_job.fit(my_data).transform(my_data)\n",
        "my_data = SI_marital.fit(my_data).transform(my_data)\n",
        "my_data = SI_education.fit(my_data).transform(my_data)\n",
        "my_data = SI_housing.fit(my_data).transform(my_data)\n",
        "my_data = SI_loan.fit(my_data).transform(my_data)\n",
        "my_data = SI_poutcome.fit(my_data).transform(my_data)\n",
        "my_data = SI_deposit.fit(my_data).transform(my_data)"
      ],
      "metadata": {
        "id": "ksXJHoys2s9P"
      },
      "execution_count": 76,
      "outputs": []
    },
    {
      "cell_type": "code",
      "source": [
        "# view the transformed data\n",
        "my_data.select('job', 'job_Index', 'marital', 'marital_Index','housing','housing_Index','poutcome','poutcome_Index','deposit','deposit_Index').show(10)"
      ],
      "metadata": {
        "colab": {
          "base_uri": "https://localhost:8080/"
        },
        "id": "ifFE9R5B2uA4",
        "outputId": "d919761f-b697-4607-e816-b5babd42e444"
      },
      "execution_count": 77,
      "outputs": [
        {
          "output_type": "stream",
          "name": "stdout",
          "text": [
            "+----------+---------+--------+-------------+-------+-------------+--------+--------------+-------+-------------+\n",
            "|       job|job_Index| marital|marital_Index|housing|housing_Index|poutcome|poutcome_Index|deposit|deposit_Index|\n",
            "+----------+---------+--------+-------------+-------+-------------+--------+--------------+-------+-------------+\n",
            "|    admin.|      3.0| married|          0.0|    yes|          1.0| unknown|           0.0|    yes|          1.0|\n",
            "|    admin.|      3.0| married|          0.0|     no|          0.0| unknown|           0.0|    yes|          1.0|\n",
            "|technician|      2.0| married|          0.0|    yes|          1.0| unknown|           0.0|    yes|          1.0|\n",
            "|  services|      4.0| married|          0.0|    yes|          1.0| unknown|           0.0|    yes|          1.0|\n",
            "|    admin.|      3.0| married|          0.0|     no|          0.0| unknown|           0.0|    yes|          1.0|\n",
            "|management|      0.0|  single|          1.0|    yes|          1.0| unknown|           0.0|    yes|          1.0|\n",
            "|management|      0.0| married|          0.0|    yes|          1.0| unknown|           0.0|    yes|          1.0|\n",
            "|   retired|      5.0|divorced|          2.0|    yes|          1.0| unknown|           0.0|    yes|          1.0|\n",
            "|technician|      2.0| married|          0.0|    yes|          1.0| unknown|           0.0|    yes|          1.0|\n",
            "|  services|      4.0|  single|          1.0|    yes|          1.0| unknown|           0.0|    yes|          1.0|\n",
            "+----------+---------+--------+-------------+-------+-------------+--------+--------------+-------+-------------+\n",
            "only showing top 10 rows\n",
            "\n"
          ]
        }
      ]
    },
    {
      "cell_type": "code",
      "source": [
        "# create object and specify input and output column\n",
        "OHE = OneHotEncoder(inputCols=['job_Index', 'marital_Index','education_Index','housing_Index','loan_Index','poutcome_Index','deposit_Index'],outputCols=['job_OHE', 'marital_OHE','education_OHE','housing_OHE','loan_OHE','poutcome_OHE','deposit_OHE'])\n",
        "\n",
        "# transform the data\n",
        "my_data = OHE.fit(my_data).transform(my_data)\n",
        "\n",
        "# view and transform the data\n",
        "my_data.select('job', 'job_Index', 'job_OHE','education','education_Index','education_OHE').show(10)"
      ],
      "metadata": {
        "colab": {
          "base_uri": "https://localhost:8080/"
        },
        "id": "Dggtse4j21ue",
        "outputId": "afa694ac-bbe0-45ef-d1f9-3d926231425a"
      },
      "execution_count": 78,
      "outputs": [
        {
          "output_type": "stream",
          "name": "stdout",
          "text": [
            "+----------+---------+--------------+---------+---------------+-------------+\n",
            "|       job|job_Index|       job_OHE|education|education_Index|education_OHE|\n",
            "+----------+---------+--------------+---------+---------------+-------------+\n",
            "|    admin.|      3.0|(11,[3],[1.0])|secondary|            0.0|(3,[0],[1.0])|\n",
            "|    admin.|      3.0|(11,[3],[1.0])|secondary|            0.0|(3,[0],[1.0])|\n",
            "|technician|      2.0|(11,[2],[1.0])|secondary|            0.0|(3,[0],[1.0])|\n",
            "|  services|      4.0|(11,[4],[1.0])|secondary|            0.0|(3,[0],[1.0])|\n",
            "|    admin.|      3.0|(11,[3],[1.0])| tertiary|            1.0|(3,[1],[1.0])|\n",
            "|management|      0.0|(11,[0],[1.0])| tertiary|            1.0|(3,[1],[1.0])|\n",
            "|management|      0.0|(11,[0],[1.0])| tertiary|            1.0|(3,[1],[1.0])|\n",
            "|   retired|      5.0|(11,[5],[1.0])|secondary|            0.0|(3,[0],[1.0])|\n",
            "|technician|      2.0|(11,[2],[1.0])|secondary|            0.0|(3,[0],[1.0])|\n",
            "|  services|      4.0|(11,[4],[1.0])|secondary|            0.0|(3,[0],[1.0])|\n",
            "+----------+---------+--------------+---------+---------------+-------------+\n",
            "only showing top 10 rows\n",
            "\n"
          ]
        }
      ]
    },
    {
      "cell_type": "code",
      "source": [
        "my_data.show()"
      ],
      "metadata": {
        "colab": {
          "base_uri": "https://localhost:8080/"
        },
        "id": "0UbpASs924Tm",
        "outputId": "6cce9c8a-7d05-433d-a4df-e5d36483a477"
      },
      "execution_count": 79,
      "outputs": [
        {
          "output_type": "stream",
          "name": "stdout",
          "text": [
            "+---+-----------+--------+---------+-------+-------+----+--------+--------+-----+--------+--------+-------+---------+-------------+---------------+-------------+----------+--------------+-------------+-------------+-------------+-------------+-------------+-----------+--------------+-------------+\n",
            "|age|        job| marital|education|balance|housing|loan|duration|campaign|pdays|previous|poutcome|deposit|job_Index|marital_Index|education_Index|housing_Index|loan_Index|poutcome_Index|deposit_Index| poutcome_OHE|     loan_OHE|  marital_OHE|  housing_OHE|deposit_OHE|       job_OHE|education_OHE|\n",
            "+---+-----------+--------+---------+-------+-------+----+--------+--------+-----+--------+--------+-------+---------+-------------+---------------+-------------+----------+--------------+-------------+-------------+-------------+-------------+-------------+-----------+--------------+-------------+\n",
            "| 59|     admin.| married|secondary|   2343|    yes|  no|    1042|       1|   -1|       0| unknown|    yes|      3.0|          0.0|            0.0|          1.0|       0.0|           0.0|          1.0|(3,[0],[1.0])|(1,[0],[1.0])|(2,[0],[1.0])|    (1,[],[])|  (1,[],[])|(11,[3],[1.0])|(3,[0],[1.0])|\n",
            "| 56|     admin.| married|secondary|     45|     no|  no|    1467|       1|   -1|       0| unknown|    yes|      3.0|          0.0|            0.0|          0.0|       0.0|           0.0|          1.0|(3,[0],[1.0])|(1,[0],[1.0])|(2,[0],[1.0])|(1,[0],[1.0])|  (1,[],[])|(11,[3],[1.0])|(3,[0],[1.0])|\n",
            "| 41| technician| married|secondary|   1270|    yes|  no|    1389|       1|   -1|       0| unknown|    yes|      2.0|          0.0|            0.0|          1.0|       0.0|           0.0|          1.0|(3,[0],[1.0])|(1,[0],[1.0])|(2,[0],[1.0])|    (1,[],[])|  (1,[],[])|(11,[2],[1.0])|(3,[0],[1.0])|\n",
            "| 55|   services| married|secondary|   2476|    yes|  no|     579|       1|   -1|       0| unknown|    yes|      4.0|          0.0|            0.0|          1.0|       0.0|           0.0|          1.0|(3,[0],[1.0])|(1,[0],[1.0])|(2,[0],[1.0])|    (1,[],[])|  (1,[],[])|(11,[4],[1.0])|(3,[0],[1.0])|\n",
            "| 54|     admin.| married| tertiary|    184|     no|  no|     673|       2|   -1|       0| unknown|    yes|      3.0|          0.0|            1.0|          0.0|       0.0|           0.0|          1.0|(3,[0],[1.0])|(1,[0],[1.0])|(2,[0],[1.0])|(1,[0],[1.0])|  (1,[],[])|(11,[3],[1.0])|(3,[1],[1.0])|\n",
            "| 42| management|  single| tertiary|      0|    yes| yes|     562|       2|   -1|       0| unknown|    yes|      0.0|          1.0|            1.0|          1.0|       1.0|           0.0|          1.0|(3,[0],[1.0])|    (1,[],[])|(2,[1],[1.0])|    (1,[],[])|  (1,[],[])|(11,[0],[1.0])|(3,[1],[1.0])|\n",
            "| 56| management| married| tertiary|    830|    yes| yes|    1201|       1|   -1|       0| unknown|    yes|      0.0|          0.0|            1.0|          1.0|       1.0|           0.0|          1.0|(3,[0],[1.0])|    (1,[],[])|(2,[0],[1.0])|    (1,[],[])|  (1,[],[])|(11,[0],[1.0])|(3,[1],[1.0])|\n",
            "| 60|    retired|divorced|secondary|    545|    yes|  no|    1030|       1|   -1|       0| unknown|    yes|      5.0|          2.0|            0.0|          1.0|       0.0|           0.0|          1.0|(3,[0],[1.0])|(1,[0],[1.0])|    (2,[],[])|    (1,[],[])|  (1,[],[])|(11,[5],[1.0])|(3,[0],[1.0])|\n",
            "| 37| technician| married|secondary|      1|    yes|  no|     608|       1|   -1|       0| unknown|    yes|      2.0|          0.0|            0.0|          1.0|       0.0|           0.0|          1.0|(3,[0],[1.0])|(1,[0],[1.0])|(2,[0],[1.0])|    (1,[],[])|  (1,[],[])|(11,[2],[1.0])|(3,[0],[1.0])|\n",
            "| 28|   services|  single|secondary|   5090|    yes|  no|    1297|       3|   -1|       0| unknown|    yes|      4.0|          1.0|            0.0|          1.0|       0.0|           0.0|          1.0|(3,[0],[1.0])|(1,[0],[1.0])|(2,[1],[1.0])|    (1,[],[])|  (1,[],[])|(11,[4],[1.0])|(3,[0],[1.0])|\n",
            "| 38|     admin.|  single|secondary|    100|    yes|  no|     786|       1|   -1|       0| unknown|    yes|      3.0|          1.0|            0.0|          1.0|       0.0|           0.0|          1.0|(3,[0],[1.0])|(1,[0],[1.0])|(2,[1],[1.0])|    (1,[],[])|  (1,[],[])|(11,[3],[1.0])|(3,[0],[1.0])|\n",
            "| 30|blue-collar| married|secondary|    309|    yes|  no|    1574|       2|   -1|       0| unknown|    yes|      1.0|          0.0|            0.0|          1.0|       0.0|           0.0|          1.0|(3,[0],[1.0])|(1,[0],[1.0])|(2,[0],[1.0])|    (1,[],[])|  (1,[],[])|(11,[1],[1.0])|(3,[0],[1.0])|\n",
            "| 29| management| married| tertiary|    199|    yes| yes|    1689|       4|   -1|       0| unknown|    yes|      0.0|          0.0|            1.0|          1.0|       1.0|           0.0|          1.0|(3,[0],[1.0])|    (1,[],[])|(2,[0],[1.0])|    (1,[],[])|  (1,[],[])|(11,[0],[1.0])|(3,[1],[1.0])|\n",
            "| 46|blue-collar|  single| tertiary|    460|    yes|  no|    1102|       2|   -1|       0| unknown|    yes|      1.0|          1.0|            1.0|          1.0|       0.0|           0.0|          1.0|(3,[0],[1.0])|(1,[0],[1.0])|(2,[1],[1.0])|    (1,[],[])|  (1,[],[])|(11,[1],[1.0])|(3,[1],[1.0])|\n",
            "| 31| technician|  single| tertiary|    703|    yes|  no|     943|       2|   -1|       0| unknown|    yes|      2.0|          1.0|            1.0|          1.0|       0.0|           0.0|          1.0|(3,[0],[1.0])|(1,[0],[1.0])|(2,[1],[1.0])|    (1,[],[])|  (1,[],[])|(11,[2],[1.0])|(3,[1],[1.0])|\n",
            "| 35| management|divorced| tertiary|   3837|    yes|  no|    1084|       1|   -1|       0| unknown|    yes|      0.0|          2.0|            1.0|          1.0|       0.0|           0.0|          1.0|(3,[0],[1.0])|(1,[0],[1.0])|    (2,[],[])|    (1,[],[])|  (1,[],[])|(11,[0],[1.0])|(3,[1],[1.0])|\n",
            "| 32|blue-collar|  single|  primary|    611|    yes|  no|     541|       3|   -1|       0| unknown|    yes|      1.0|          1.0|            2.0|          1.0|       0.0|           0.0|          1.0|(3,[0],[1.0])|(1,[0],[1.0])|(2,[1],[1.0])|    (1,[],[])|  (1,[],[])|(11,[1],[1.0])|(3,[2],[1.0])|\n",
            "| 49|   services| married|secondary|     -8|    yes|  no|    1119|       1|   -1|       0| unknown|    yes|      4.0|          0.0|            0.0|          1.0|       0.0|           0.0|          1.0|(3,[0],[1.0])|(1,[0],[1.0])|(2,[0],[1.0])|    (1,[],[])|  (1,[],[])|(11,[4],[1.0])|(3,[0],[1.0])|\n",
            "| 41|     admin.| married|secondary|     55|    yes|  no|    1120|       2|   -1|       0| unknown|    yes|      3.0|          0.0|            0.0|          1.0|       0.0|           0.0|          1.0|(3,[0],[1.0])|(1,[0],[1.0])|(2,[0],[1.0])|    (1,[],[])|  (1,[],[])|(11,[3],[1.0])|(3,[0],[1.0])|\n",
            "| 49|     admin.|divorced|secondary|    168|    yes| yes|     513|       1|   -1|       0| unknown|    yes|      3.0|          2.0|            0.0|          1.0|       1.0|           0.0|          1.0|(3,[0],[1.0])|    (1,[],[])|    (2,[],[])|    (1,[],[])|  (1,[],[])|(11,[3],[1.0])|(3,[0],[1.0])|\n",
            "+---+-----------+--------+---------+-------+-------+----+--------+--------+-----+--------+--------+-------+---------+-------------+---------------+-------------+----------+--------------+-------------+-------------+-------------+-------------+-------------+-----------+--------------+-------------+\n",
            "only showing top 20 rows\n",
            "\n"
          ]
        }
      ]
    },
    {
      "cell_type": "code",
      "source": [
        "from pyspark.ml.feature import VectorAssembler\n",
        "\n",
        "# specify the input and output columns of the vector assembler\n",
        "assembler = VectorAssembler(inputCols=['age',\n",
        "                                       'job_Index',\n",
        "                                       'marital_Index',\n",
        "                                       'education_Index',\n",
        "                                       'balance',\n",
        "                                       'housing_Index',\n",
        "                                       'loan_Index',\n",
        "                                       'duration',\n",
        "                                       'campaign',\n",
        "                                       'pdays',\n",
        "                                       'previous',\n",
        "                                       'poutcome_Index',\n",
        "                                       'job_OHE',\n",
        "                                       'marital_OHE',\n",
        "                                       'housing_OHE',\n",
        "                                       'education_OHE',\n",
        "                                       'loan_OHE',\n",
        "                                       'poutcome_OHE'],\n",
        "                           outputCol='features')\n",
        "\n",
        "# fill the null values\n",
        "my_data = my_data.fillna(0)\n",
        "\n",
        "# transform the data\n",
        "final_data = assembler.transform(my_data)"
      ],
      "metadata": {
        "id": "hC733-j13CAG"
      },
      "execution_count": 80,
      "outputs": []
    },
    {
      "cell_type": "code",
      "source": [
        "# view the transformed vector\n",
        "final_data.select('features','deposit_Index').show()"
      ],
      "metadata": {
        "colab": {
          "base_uri": "https://localhost:8080/"
        },
        "id": "21cb0XLc3H1-",
        "outputId": "3b52fee6-5eec-4a71-ff8f-cf4773968621"
      },
      "execution_count": 81,
      "outputs": [
        {
          "output_type": "stream",
          "name": "stdout",
          "text": [
            "+--------------------+-------------+\n",
            "|            features|deposit_Index|\n",
            "+--------------------+-------------+\n",
            "|(33,[0,1,4,5,7,8,...|          1.0|\n",
            "|(33,[0,1,4,7,8,9,...|          1.0|\n",
            "|(33,[0,1,4,5,7,8,...|          1.0|\n",
            "|(33,[0,1,4,5,7,8,...|          1.0|\n",
            "|(33,[0,1,3,4,7,8,...|          1.0|\n",
            "|(33,[0,2,3,5,6,7,...|          1.0|\n",
            "|(33,[0,3,4,5,6,7,...|          1.0|\n",
            "|(33,[0,1,2,4,5,7,...|          1.0|\n",
            "|(33,[0,1,4,5,7,8,...|          1.0|\n",
            "|(33,[0,1,2,4,5,7,...|          1.0|\n",
            "|(33,[0,1,2,4,5,7,...|          1.0|\n",
            "|(33,[0,1,4,5,7,8,...|          1.0|\n",
            "|(33,[0,3,4,5,6,7,...|          1.0|\n",
            "|(33,[0,1,2,3,4,5,...|          1.0|\n",
            "|(33,[0,1,2,3,4,5,...|          1.0|\n",
            "|(33,[0,2,3,4,5,7,...|          1.0|\n",
            "|(33,[0,1,2,3,4,5,...|          1.0|\n",
            "|(33,[0,1,4,5,7,8,...|          1.0|\n",
            "|(33,[0,1,4,5,7,8,...|          1.0|\n",
            "|(33,[0,1,2,4,5,6,...|          1.0|\n",
            "+--------------------+-------------+\n",
            "only showing top 20 rows\n",
            "\n"
          ]
        }
      ]
    },
    {
      "cell_type": "code",
      "source": [
        "#Model_Dataframe\n",
        "model_df = final_data.select(['features','deposit_Index'])\n",
        "model_df = model_df.withColumnRenamed(\"deposit_Index\",\"label\")\n",
        "model_df.printSchema()\n",
        "     "
      ],
      "metadata": {
        "colab": {
          "base_uri": "https://localhost:8080/"
        },
        "id": "kB0gSN_g3Mz2",
        "outputId": "00e4e887-7b8e-4bc9-d95b-d1910f3e5ca5"
      },
      "execution_count": 82,
      "outputs": [
        {
          "output_type": "stream",
          "name": "stdout",
          "text": [
            "root\n",
            " |-- features: vector (nullable = true)\n",
            " |-- label: double (nullable = false)\n",
            "\n"
          ]
        }
      ]
    },
    {
      "cell_type": "code",
      "source": [
        "#Split into training & testing Dataframe\n",
        "training_df,test_df = model_df.randomSplit([0.75,0.25])"
      ],
      "metadata": {
        "id": "1X196c413PHF"
      },
      "execution_count": 83,
      "outputs": []
    },
    {
      "cell_type": "code",
      "source": [
        "\n",
        "#Create a logistic regression model object\n",
        "from pyspark.ml.classification import LogisticRegression\n",
        "log_reg=LogisticRegression().fit(training_df)"
      ],
      "metadata": {
        "id": "GcjyXAVV3RKm"
      },
      "execution_count": 84,
      "outputs": []
    },
    {
      "cell_type": "code",
      "source": [
        "lr_summary=log_reg.summary"
      ],
      "metadata": {
        "id": "Gu7mZ1wB3UCF"
      },
      "execution_count": 85,
      "outputs": []
    },
    {
      "cell_type": "code",
      "source": [
        "#Overall accuracy of the classification model\n",
        "lr_summary.accuracy"
      ],
      "metadata": {
        "colab": {
          "base_uri": "https://localhost:8080/"
        },
        "id": "WJXAdzIg3VLn",
        "outputId": "d76b1cba-ada6-4c41-f89c-578b110d01f1"
      },
      "execution_count": 86,
      "outputs": [
        {
          "output_type": "execute_result",
          "data": {
            "text/plain": [
              "0.7979114750207665"
            ]
          },
          "metadata": {},
          "execution_count": 86
        }
      ]
    },
    {
      "cell_type": "code",
      "source": [
        "#Precision of both classes\n",
        "print(lr_summary.precisionByLabel)"
      ],
      "metadata": {
        "colab": {
          "base_uri": "https://localhost:8080/"
        },
        "id": "w-DeNEsP3Zln",
        "outputId": "bbc6f493-72e2-478c-a665-dea99343b307"
      },
      "execution_count": 87,
      "outputs": [
        {
          "output_type": "stream",
          "name": "stdout",
          "text": [
            "[0.787885139383777, 0.8109956236323851]\n"
          ]
        }
      ]
    },
    {
      "cell_type": "code",
      "source": [
        "\n",
        "#Get Preditions\n",
        "predictions = log_reg.transform(test_df)"
      ],
      "metadata": {
        "id": "8TM1NqlB3hkQ"
      },
      "execution_count": 88,
      "outputs": []
    },
    {
      "cell_type": "code",
      "source": [
        "predictions.select('label','prediction').show(50)"
      ],
      "metadata": {
        "colab": {
          "base_uri": "https://localhost:8080/"
        },
        "id": "Fo6RwDZd3mWy",
        "outputId": "ac2cac43-8c1b-411f-a9f8-884987bee27c"
      },
      "execution_count": 89,
      "outputs": [
        {
          "output_type": "stream",
          "name": "stdout",
          "text": [
            "+-----+----------+\n",
            "|label|prediction|\n",
            "+-----+----------+\n",
            "|  0.0|       0.0|\n",
            "|  0.0|       0.0|\n",
            "|  1.0|       1.0|\n",
            "|  0.0|       0.0|\n",
            "|  1.0|       0.0|\n",
            "|  1.0|       1.0|\n",
            "|  1.0|       0.0|\n",
            "|  1.0|       1.0|\n",
            "|  1.0|       1.0|\n",
            "|  0.0|       0.0|\n",
            "|  0.0|       0.0|\n",
            "|  1.0|       1.0|\n",
            "|  0.0|       0.0|\n",
            "|  0.0|       0.0|\n",
            "|  0.0|       1.0|\n",
            "|  1.0|       0.0|\n",
            "|  1.0|       1.0|\n",
            "|  0.0|       0.0|\n",
            "|  1.0|       1.0|\n",
            "|  0.0|       0.0|\n",
            "|  0.0|       1.0|\n",
            "|  1.0|       1.0|\n",
            "|  1.0|       0.0|\n",
            "|  0.0|       0.0|\n",
            "|  0.0|       0.0|\n",
            "|  1.0|       1.0|\n",
            "|  1.0|       1.0|\n",
            "|  1.0|       1.0|\n",
            "|  1.0|       1.0|\n",
            "|  0.0|       0.0|\n",
            "|  1.0|       1.0|\n",
            "|  0.0|       1.0|\n",
            "|  1.0|       1.0|\n",
            "|  0.0|       0.0|\n",
            "|  0.0|       0.0|\n",
            "|  1.0|       1.0|\n",
            "|  1.0|       1.0|\n",
            "|  1.0|       1.0|\n",
            "|  1.0|       1.0|\n",
            "|  1.0|       1.0|\n",
            "|  0.0|       0.0|\n",
            "|  0.0|       0.0|\n",
            "|  0.0|       1.0|\n",
            "|  1.0|       1.0|\n",
            "|  1.0|       1.0|\n",
            "|  0.0|       0.0|\n",
            "|  0.0|       0.0|\n",
            "|  1.0|       1.0|\n",
            "|  1.0|       1.0|\n",
            "|  0.0|       1.0|\n",
            "+-----+----------+\n",
            "only showing top 50 rows\n",
            "\n"
          ]
        }
      ]
    },
    {
      "cell_type": "code",
      "source": [],
      "metadata": {
        "id": "a6erHiIt3y4W"
      },
      "execution_count": 89,
      "outputs": []
    }
  ]
}