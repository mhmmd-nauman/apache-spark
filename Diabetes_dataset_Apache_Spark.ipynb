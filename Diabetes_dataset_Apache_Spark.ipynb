{
  "nbformat": 4,
  "nbformat_minor": 0,
  "metadata": {
    "colab": {
      "provenance": []
    },
    "kernelspec": {
      "name": "python3",
      "display_name": "Python 3"
    },
    "language_info": {
      "name": "python"
    }
  },
  "cells": [
    {
      "cell_type": "code",
      "execution_count": 43,
      "metadata": {
        "colab": {
          "base_uri": "https://localhost:8080/"
        },
        "id": "6MayWVQMiAOZ",
        "outputId": "a8eaf57c-c148-4b83-e4dc-81a31ffab5b4"
      },
      "outputs": [
        {
          "output_type": "stream",
          "name": "stdout",
          "text": [
            "Reading package lists... Done\n",
            "Building dependency tree       \n",
            "Reading state information... Done\n",
            "openjdk-8-jdk is already the newest version (8u372-ga~us1-0ubuntu1~20.04).\n",
            "0 upgraded, 0 newly installed, 0 to remove and 34 not upgraded.\n"
          ]
        }
      ],
      "source": [
        "#Install Java Development kit for Spark\n",
        "!apt-get install openjdk-8-jdk"
      ]
    },
    {
      "cell_type": "code",
      "source": [
        "import os"
      ],
      "metadata": {
        "id": "B7nWAQLqiNOl"
      },
      "execution_count": 44,
      "outputs": []
    },
    {
      "cell_type": "code",
      "source": [
        "#Set the JAVA_HOME env variable\n",
        "os.environ[\"JAVA_HOME\"]=\"/usr/lib/jvm/java-8-openjdk-amd64\""
      ],
      "metadata": {
        "id": "7ztLDz1diYxG"
      },
      "execution_count": 45,
      "outputs": []
    },
    {
      "cell_type": "code",
      "source": [
        "#Current working directory\n",
        "!pwd"
      ],
      "metadata": {
        "id": "cuzd6YJTicOg",
        "colab": {
          "base_uri": "https://localhost:8080/"
        },
        "outputId": "98a04b59-e2cc-4193-f75b-5d5ae51517a3"
      },
      "execution_count": 46,
      "outputs": [
        {
          "output_type": "stream",
          "name": "stdout",
          "text": [
            "/content\n"
          ]
        }
      ]
    },
    {
      "cell_type": "code",
      "source": [
        "!echo $JAVA_HOME"
      ],
      "metadata": {
        "id": "jcVmTrzsilO6",
        "colab": {
          "base_uri": "https://localhost:8080/"
        },
        "outputId": "7071bf82-236f-4f46-c908-f40a6eb195b2"
      },
      "execution_count": 47,
      "outputs": [
        {
          "output_type": "stream",
          "name": "stdout",
          "text": [
            "/usr/lib/jvm/java-8-openjdk-amd64\n"
          ]
        }
      ]
    },
    {
      "cell_type": "code",
      "source": [
        "#Install PySpark with latest version\n",
        "!pip install pyspark==3.0.0"
      ],
      "metadata": {
        "id": "F9UiphOjjzKW",
        "outputId": "a5a08c44-a134-46b3-cc53-2522d5713499",
        "colab": {
          "base_uri": "https://localhost:8080/"
        }
      },
      "execution_count": 48,
      "outputs": [
        {
          "output_type": "stream",
          "name": "stdout",
          "text": [
            "Looking in indexes: https://pypi.org/simple, https://us-python.pkg.dev/colab-wheels/public/simple/\n",
            "Requirement already satisfied: pyspark==3.0.0 in /usr/local/lib/python3.10/dist-packages (3.0.0)\n",
            "Requirement already satisfied: py4j==0.10.9 in /usr/local/lib/python3.10/dist-packages (from pyspark==3.0.0) (0.10.9)\n"
          ]
        }
      ]
    },
    {
      "cell_type": "code",
      "source": [
        "!pip install findspark\n",
        "import findspark\n",
        "findspark.init()"
      ],
      "metadata": {
        "colab": {
          "base_uri": "https://localhost:8080/"
        },
        "id": "CYKEhR35xcpX",
        "outputId": "a180976c-fe13-4afe-9362-bab3b5edb15a"
      },
      "execution_count": 49,
      "outputs": [
        {
          "output_type": "stream",
          "name": "stdout",
          "text": [
            "Looking in indexes: https://pypi.org/simple, https://us-python.pkg.dev/colab-wheels/public/simple/\n",
            "Requirement already satisfied: findspark in /usr/local/lib/python3.10/dist-packages (2.0.1)\n"
          ]
        }
      ]
    },
    {
      "cell_type": "code",
      "source": [
        "from pyspark.sql import SparkSession, SQLContext\n",
        "spark = SparkSession.builder.master(\"local\").appName(\"Test Spark\").config(\"spark.some.config.option\", \"some-value\").getOrCreate()"
      ],
      "metadata": {
        "id": "G27pbismyUDP"
      },
      "execution_count": 50,
      "outputs": []
    },
    {
      "cell_type": "code",
      "source": [
        "sc = spark.sparkContext"
      ],
      "metadata": {
        "id": "vSnd435oyYim"
      },
      "execution_count": 51,
      "outputs": []
    },
    {
      "cell_type": "code",
      "source": [
        "spark"
      ],
      "metadata": {
        "colab": {
          "base_uri": "https://localhost:8080/",
          "height": 219
        },
        "id": "tfJHNwsHyuF-",
        "outputId": "2512a024-1e59-4977-a736-83ce894eeeb4"
      },
      "execution_count": 52,
      "outputs": [
        {
          "output_type": "execute_result",
          "data": {
            "text/plain": [
              "<pyspark.sql.session.SparkSession at 0x7f221c1a5bd0>"
            ],
            "text/html": [
              "\n",
              "            <div>\n",
              "                <p><b>SparkSession - in-memory</b></p>\n",
              "                \n",
              "        <div>\n",
              "            <p><b>SparkContext</b></p>\n",
              "\n",
              "            <p><a href=\"http://b347eb163362:4040\">Spark UI</a></p>\n",
              "\n",
              "            <dl>\n",
              "              <dt>Version</dt>\n",
              "                <dd><code>v3.0.0</code></dd>\n",
              "              <dt>Master</dt>\n",
              "                <dd><code>local</code></dd>\n",
              "              <dt>AppName</dt>\n",
              "                <dd><code>Test Spark</code></dd>\n",
              "            </dl>\n",
              "        </div>\n",
              "        \n",
              "            </div>\n",
              "        "
            ]
          },
          "metadata": {},
          "execution_count": 52
        }
      ]
    },
    {
      "cell_type": "code",
      "source": [
        "#mount your drive\n",
        "from google.colab import drive\n",
        "drive.mount('/content/drive')"
      ],
      "metadata": {
        "colab": {
          "base_uri": "https://localhost:8080/"
        },
        "id": "eXO-5ODP0xDg",
        "outputId": "492a3337-025c-440f-d40c-e8517982ee5d"
      },
      "execution_count": 53,
      "outputs": [
        {
          "output_type": "stream",
          "name": "stdout",
          "text": [
            "Drive already mounted at /content/drive; to attempt to forcibly remount, call drive.mount(\"/content/drive\", force_remount=True).\n"
          ]
        }
      ]
    },
    {
      "cell_type": "code",
      "source": [
        "#Read the csv file\n",
        "df=spark.read.csv('/content/drive/MyDrive/Colab Notebooks/diabetes_prediction_dataset.csv',inferSchema=True,header=True)"
      ],
      "metadata": {
        "id": "DxMXhclX077_"
      },
      "execution_count": 54,
      "outputs": []
    },
    {
      "cell_type": "code",
      "source": [
        "#Check dimension's\n",
        "print((df.count(),len(df.columns)))"
      ],
      "metadata": {
        "colab": {
          "base_uri": "https://localhost:8080/"
        },
        "id": "WxihxvKV1X2g",
        "outputId": "97e6bcb4-184d-4afc-e4ec-47615efb421b"
      },
      "execution_count": 55,
      "outputs": [
        {
          "output_type": "stream",
          "name": "stdout",
          "text": [
            "(100000, 9)\n"
          ]
        }
      ]
    },
    {
      "cell_type": "code",
      "source": [
        "#Check for the schema\n",
        "df.printSchema()"
      ],
      "metadata": {
        "colab": {
          "base_uri": "https://localhost:8080/"
        },
        "id": "BamX7lEs1abP",
        "outputId": "472d652f-0db8-4710-b2fc-b7cabdc3408b"
      },
      "execution_count": 56,
      "outputs": [
        {
          "output_type": "stream",
          "name": "stdout",
          "text": [
            "root\n",
            " |-- gender: string (nullable = true)\n",
            " |-- age: double (nullable = true)\n",
            " |-- hypertension: integer (nullable = true)\n",
            " |-- heart_disease: integer (nullable = true)\n",
            " |-- smoking_history: string (nullable = true)\n",
            " |-- bmi: double (nullable = true)\n",
            " |-- HbA1c_level: double (nullable = true)\n",
            " |-- blood_glucose_level: integer (nullable = true)\n",
            " |-- diabetes: integer (nullable = true)\n",
            "\n"
          ]
        }
      ]
    },
    {
      "cell_type": "code",
      "source": [
        "#Top 5 records\n",
        "df.show(5)"
      ],
      "metadata": {
        "colab": {
          "base_uri": "https://localhost:8080/"
        },
        "id": "-xThEKlE2KoP",
        "outputId": "11433dc0-6754-4af4-a32b-b2fb447e723d"
      },
      "execution_count": 57,
      "outputs": [
        {
          "output_type": "stream",
          "name": "stdout",
          "text": [
            "+------+----+------------+-------------+---------------+-----+-----------+-------------------+--------+\n",
            "|gender| age|hypertension|heart_disease|smoking_history|  bmi|HbA1c_level|blood_glucose_level|diabetes|\n",
            "+------+----+------------+-------------+---------------+-----+-----------+-------------------+--------+\n",
            "|Female|80.0|           0|            1|          never|25.19|        6.6|                140|       0|\n",
            "|Female|54.0|           0|            0|        No Info|27.32|        6.6|                 80|       0|\n",
            "|  Male|28.0|           0|            0|          never|27.32|        5.7|                158|       0|\n",
            "|Female|36.0|           0|            0|        current|23.45|        5.0|                155|       0|\n",
            "|  Male|76.0|           1|            1|        current|20.14|        4.8|                155|       0|\n",
            "+------+----+------------+-------------+---------------+-----+-----------+-------------------+--------+\n",
            "only showing top 5 rows\n",
            "\n"
          ]
        }
      ]
    },
    {
      "cell_type": "code",
      "source": [
        "\n",
        "#Datatypes of the columns\n",
        "df.dtypes"
      ],
      "metadata": {
        "colab": {
          "base_uri": "https://localhost:8080/"
        },
        "id": "oxlB3pQ-2N1W",
        "outputId": "a685e528-1e44-49fc-8f44-969466178177"
      },
      "execution_count": 58,
      "outputs": [
        {
          "output_type": "execute_result",
          "data": {
            "text/plain": [
              "[('gender', 'string'),\n",
              " ('age', 'double'),\n",
              " ('hypertension', 'int'),\n",
              " ('heart_disease', 'int'),\n",
              " ('smoking_history', 'string'),\n",
              " ('bmi', 'double'),\n",
              " ('HbA1c_level', 'double'),\n",
              " ('blood_glucose_level', 'int'),\n",
              " ('diabetes', 'int')]"
            ]
          },
          "metadata": {},
          "execution_count": 58
        }
      ]
    },
    {
      "cell_type": "code",
      "source": [
        "\n",
        "#Drop unwanted columns\n",
        "#my_data = df.drop(*['contact', 'day', 'month','default'])\n",
        "my_data = df.alias('my_data')\n",
        "#my_data = df.copy()"
      ],
      "metadata": {
        "id": "hiuUkHp32Rms"
      },
      "execution_count": 59,
      "outputs": []
    },
    {
      "cell_type": "code",
      "source": [
        "# get the dimensions of the data\n",
        "(my_data.count() , len(my_data.columns))"
      ],
      "metadata": {
        "colab": {
          "base_uri": "https://localhost:8080/"
        },
        "id": "c0yb0DFh2TCn",
        "outputId": "95d5ce32-6cec-4079-dfab-41af7b46a053"
      },
      "execution_count": 60,
      "outputs": [
        {
          "output_type": "execute_result",
          "data": {
            "text/plain": [
              "(100000, 9)"
            ]
          },
          "metadata": {},
          "execution_count": 60
        }
      ]
    },
    {
      "cell_type": "code",
      "source": [
        "my_data.describe().show()"
      ],
      "metadata": {
        "colab": {
          "base_uri": "https://localhost:8080/"
        },
        "id": "ElCzq03y2YAX",
        "outputId": "c11b2bb3-06ab-4f12-e8e3-03ad9b3b7b3a"
      },
      "execution_count": 61,
      "outputs": [
        {
          "output_type": "stream",
          "name": "stdout",
          "text": [
            "+-------+------+-----------------+------------------+------------------+---------------+-----------------+------------------+-------------------+-------------------+\n",
            "|summary|gender|              age|      hypertension|     heart_disease|smoking_history|              bmi|       HbA1c_level|blood_glucose_level|           diabetes|\n",
            "+-------+------+-----------------+------------------+------------------+---------------+-----------------+------------------+-------------------+-------------------+\n",
            "|  count|100000|           100000|            100000|            100000|         100000|           100000|            100000|             100000|             100000|\n",
            "|   mean|  null|41.88585600000013|           0.07485|           0.03942|           null|27.32076709999422|5.5275069999983275|          138.05806|              0.085|\n",
            "| stddev|  null|22.51683987161704|0.2631504702289171|0.1945930169980986|           null|6.636783416648357|1.0706720918835468|  40.70813604870383|0.27888308976661896|\n",
            "|    min|Female|             0.08|                 0|                 0|        No Info|            10.01|               3.5|                 80|                  0|\n",
            "|    max| Other|             80.0|                 1|                 1|    not current|            95.69|               9.0|                300|                  1|\n",
            "+-------+------+-----------------+------------------+------------------+---------------+-----------------+------------------+-------------------+-------------------+\n",
            "\n"
          ]
        }
      ]
    },
    {
      "cell_type": "code",
      "source": [
        "# import sql function pyspark\n",
        "import pyspark.sql.functions as f\n",
        "\n",
        "# null values in each column\n",
        "data_agg = my_data.agg(*[f.count(f.when(f.isnull(c), c)).alias(c) for c in my_data.columns])\n",
        "data_agg.show()\n",
        "     "
      ],
      "metadata": {
        "colab": {
          "base_uri": "https://localhost:8080/"
        },
        "id": "xiSOPtZv2aBF",
        "outputId": "0710c34c-09d9-4003-d677-d862a65be1b8"
      },
      "execution_count": 62,
      "outputs": [
        {
          "output_type": "stream",
          "name": "stdout",
          "text": [
            "+------+---+------------+-------------+---------------+---+-----------+-------------------+--------+\n",
            "|gender|age|hypertension|heart_disease|smoking_history|bmi|HbA1c_level|blood_glucose_level|diabetes|\n",
            "+------+---+------------+-------------+---------------+---+-----------+-------------------+--------+\n",
            "|     0|  0|           0|            0|              0|  0|          0|                  0|       0|\n",
            "+------+---+------------+-------------+---------------+---+-----------+-------------------+--------+\n",
            "\n"
          ]
        }
      ]
    },
    {
      "cell_type": "code",
      "source": [
        "\n",
        "# value counts of columns\n",
        "my_data.groupBy('gender').count().show()\n",
        "print()\n",
        "my_data.groupBy('smoking_history').count().show()\n",
        "print()"
      ],
      "metadata": {
        "colab": {
          "base_uri": "https://localhost:8080/"
        },
        "id": "iO_znrzf2hKI",
        "outputId": "7a87d8fb-fd43-4ca7-f0da-15902a19e7a4"
      },
      "execution_count": 63,
      "outputs": [
        {
          "output_type": "stream",
          "name": "stdout",
          "text": [
            "+------+-----+\n",
            "|gender|count|\n",
            "+------+-----+\n",
            "|Female|58552|\n",
            "| Other|   18|\n",
            "|  Male|41430|\n",
            "+------+-----+\n",
            "\n",
            "\n",
            "+---------------+-----+\n",
            "|smoking_history|count|\n",
            "+---------------+-----+\n",
            "|    not current| 6447|\n",
            "|         former| 9352|\n",
            "|        No Info|35816|\n",
            "|        current| 9286|\n",
            "|          never|35095|\n",
            "|           ever| 4004|\n",
            "+---------------+-----+\n",
            "\n",
            "\n"
          ]
        }
      ]
    },
    {
      "cell_type": "code",
      "source": [
        "my_data.dtypes"
      ],
      "metadata": {
        "colab": {
          "base_uri": "https://localhost:8080/"
        },
        "id": "3bhoOkuw2p-n",
        "outputId": "790f84b4-7912-4c31-94a7-0157b97b05fb"
      },
      "execution_count": 64,
      "outputs": [
        {
          "output_type": "execute_result",
          "data": {
            "text/plain": [
              "[('gender', 'string'),\n",
              " ('age', 'double'),\n",
              " ('hypertension', 'int'),\n",
              " ('heart_disease', 'int'),\n",
              " ('smoking_history', 'string'),\n",
              " ('bmi', 'double'),\n",
              " ('HbA1c_level', 'double'),\n",
              " ('blood_glucose_level', 'int'),\n",
              " ('diabetes', 'int')]"
            ]
          },
          "metadata": {},
          "execution_count": 64
        }
      ]
    },
    {
      "cell_type": "code",
      "source": [
        "#Preprocessing steps\n",
        "from pyspark.ml.feature import StringIndexer, OneHotEncoder\n",
        "\n",
        "# create object of StringIndexer class and specify input and output column\n",
        "SI_gender = StringIndexer(inputCol='gender',outputCol='gender_Index')\n",
        "SI_smoking_history = StringIndexer(inputCol='smoking_history',outputCol='smoking_history_Index')\n",
        "\n",
        "# transform the data\n",
        "my_data = SI_gender.fit(my_data).transform(my_data)\n",
        "my_data = SI_smoking_history.fit(my_data).transform(my_data)"
      ],
      "metadata": {
        "id": "ksXJHoys2s9P"
      },
      "execution_count": 65,
      "outputs": []
    },
    {
      "cell_type": "code",
      "source": [
        "# view the transformed data\n",
        "my_data.select('gender', 'gender_Index', 'smoking_history', 'smoking_history_Index').show(10)"
      ],
      "metadata": {
        "colab": {
          "base_uri": "https://localhost:8080/"
        },
        "id": "ifFE9R5B2uA4",
        "outputId": "5e5a8673-c55d-4927-dbc6-742194a932bd"
      },
      "execution_count": 66,
      "outputs": [
        {
          "output_type": "stream",
          "name": "stdout",
          "text": [
            "+------+------------+---------------+---------------------+\n",
            "|gender|gender_Index|smoking_history|smoking_history_Index|\n",
            "+------+------------+---------------+---------------------+\n",
            "|Female|         0.0|          never|                  1.0|\n",
            "|Female|         0.0|        No Info|                  0.0|\n",
            "|  Male|         1.0|          never|                  1.0|\n",
            "|Female|         0.0|        current|                  3.0|\n",
            "|  Male|         1.0|        current|                  3.0|\n",
            "|Female|         0.0|          never|                  1.0|\n",
            "|Female|         0.0|          never|                  1.0|\n",
            "|Female|         0.0|        No Info|                  0.0|\n",
            "|  Male|         1.0|          never|                  1.0|\n",
            "|Female|         0.0|          never|                  1.0|\n",
            "+------+------------+---------------+---------------------+\n",
            "only showing top 10 rows\n",
            "\n"
          ]
        }
      ]
    },
    {
      "cell_type": "code",
      "source": [
        "# create object and specify input and output column\n",
        "OHE = OneHotEncoder(inputCols=['gender_Index', 'smoking_history_Index'],outputCols=['gender_OHE', 'smoking_history_OHE'])\n",
        "\n",
        "# transform the data\n",
        "my_data = OHE.fit(my_data).transform(my_data)\n",
        "\n",
        "# view and transform the data\n",
        "my_data.select('gender', 'gender_Index', 'gender_OHE','smoking_history','smoking_history_Index','smoking_history_OHE').show(10)"
      ],
      "metadata": {
        "colab": {
          "base_uri": "https://localhost:8080/"
        },
        "id": "Dggtse4j21ue",
        "outputId": "337ffa3e-9223-4907-c435-7e4f5bbeb286"
      },
      "execution_count": 67,
      "outputs": [
        {
          "output_type": "stream",
          "name": "stdout",
          "text": [
            "+------+------------+-------------+---------------+---------------------+-------------------+\n",
            "|gender|gender_Index|   gender_OHE|smoking_history|smoking_history_Index|smoking_history_OHE|\n",
            "+------+------------+-------------+---------------+---------------------+-------------------+\n",
            "|Female|         0.0|(2,[0],[1.0])|          never|                  1.0|      (5,[1],[1.0])|\n",
            "|Female|         0.0|(2,[0],[1.0])|        No Info|                  0.0|      (5,[0],[1.0])|\n",
            "|  Male|         1.0|(2,[1],[1.0])|          never|                  1.0|      (5,[1],[1.0])|\n",
            "|Female|         0.0|(2,[0],[1.0])|        current|                  3.0|      (5,[3],[1.0])|\n",
            "|  Male|         1.0|(2,[1],[1.0])|        current|                  3.0|      (5,[3],[1.0])|\n",
            "|Female|         0.0|(2,[0],[1.0])|          never|                  1.0|      (5,[1],[1.0])|\n",
            "|Female|         0.0|(2,[0],[1.0])|          never|                  1.0|      (5,[1],[1.0])|\n",
            "|Female|         0.0|(2,[0],[1.0])|        No Info|                  0.0|      (5,[0],[1.0])|\n",
            "|  Male|         1.0|(2,[1],[1.0])|          never|                  1.0|      (5,[1],[1.0])|\n",
            "|Female|         0.0|(2,[0],[1.0])|          never|                  1.0|      (5,[1],[1.0])|\n",
            "+------+------------+-------------+---------------+---------------------+-------------------+\n",
            "only showing top 10 rows\n",
            "\n"
          ]
        }
      ]
    },
    {
      "cell_type": "code",
      "source": [
        "my_data.columns"
      ],
      "metadata": {
        "colab": {
          "base_uri": "https://localhost:8080/"
        },
        "id": "0UbpASs924Tm",
        "outputId": "005cb7a1-f012-4e5e-f9fe-5fe8a0567f45"
      },
      "execution_count": 68,
      "outputs": [
        {
          "output_type": "execute_result",
          "data": {
            "text/plain": [
              "['gender',\n",
              " 'age',\n",
              " 'hypertension',\n",
              " 'heart_disease',\n",
              " 'smoking_history',\n",
              " 'bmi',\n",
              " 'HbA1c_level',\n",
              " 'blood_glucose_level',\n",
              " 'diabetes',\n",
              " 'gender_Index',\n",
              " 'smoking_history_Index',\n",
              " 'gender_OHE',\n",
              " 'smoking_history_OHE']"
            ]
          },
          "metadata": {},
          "execution_count": 68
        }
      ]
    },
    {
      "cell_type": "code",
      "source": [
        "from pyspark.ml.feature import VectorAssembler\n",
        "\n",
        "# specify the input and output columns of the vector assembler\n",
        "assembler = VectorAssembler(inputCols=['age',\n",
        "                                       'gender_Index',\n",
        "                                       'smoking_history_Index',\n",
        "                                       'hypertension',\n",
        "                                       'heart_disease',\n",
        "                                       'bmi',\n",
        "                                       'HbA1c_level',\n",
        "                                       'blood_glucose_level',\n",
        "                                       'gender_OHE',\n",
        "                                       'smoking_history_OHE'\n",
        "                                       ],\n",
        "                           outputCol='features')\n",
        "\n",
        "# fill the null values\n",
        "my_data = my_data.fillna(0)\n",
        "\n",
        "# transform the data\n",
        "final_data = assembler.transform(my_data)"
      ],
      "metadata": {
        "id": "hC733-j13CAG"
      },
      "execution_count": 69,
      "outputs": []
    },
    {
      "cell_type": "code",
      "source": [
        "# view the transformed vector\n",
        "final_data.select('features','diabetes').show()"
      ],
      "metadata": {
        "colab": {
          "base_uri": "https://localhost:8080/"
        },
        "id": "21cb0XLc3H1-",
        "outputId": "509ed9ba-2b87-43e2-e37e-4d80b008a875"
      },
      "execution_count": 70,
      "outputs": [
        {
          "output_type": "stream",
          "name": "stdout",
          "text": [
            "+--------------------+--------+\n",
            "|            features|diabetes|\n",
            "+--------------------+--------+\n",
            "|(15,[0,2,4,5,6,7,...|       0|\n",
            "|(15,[0,5,6,7,8,10...|       0|\n",
            "|(15,[0,1,2,5,6,7,...|       0|\n",
            "|(15,[0,2,5,6,7,8,...|       0|\n",
            "|[76.0,1.0,3.0,1.0...|       0|\n",
            "|(15,[0,2,5,6,7,8,...|       0|\n",
            "|(15,[0,2,5,6,7,8,...|       1|\n",
            "|(15,[0,5,6,7,8,10...|       0|\n",
            "|(15,[0,1,2,5,6,7,...|       0|\n",
            "|(15,[0,2,5,6,7,8,...|       0|\n",
            "|(15,[0,2,5,6,7,8,...|       0|\n",
            "|(15,[0,2,5,6,7,8,...|       0|\n",
            "|(15,[0,2,5,6,7,8,...|       0|\n",
            "|(15,[0,2,5,6,7,8,...|       0|\n",
            "|(15,[0,5,6,7,8,10...|       0|\n",
            "|(15,[0,1,5,6,7,9,...|       0|\n",
            "|(15,[0,1,2,5,6,7,...|       0|\n",
            "|(15,[0,2,5,6,7,8,...|       0|\n",
            "|(15,[0,5,6,7,8,10...|       0|\n",
            "|(15,[0,1,2,5,6,7,...|       0|\n",
            "+--------------------+--------+\n",
            "only showing top 20 rows\n",
            "\n"
          ]
        }
      ]
    },
    {
      "cell_type": "code",
      "source": [
        "#Model_Dataframe\n",
        "model_df = final_data.select(['features','diabetes'])\n",
        "model_df = model_df.withColumnRenamed(\"diabetes\",\"label\")\n",
        "model_df.printSchema()\n",
        "     "
      ],
      "metadata": {
        "colab": {
          "base_uri": "https://localhost:8080/"
        },
        "id": "kB0gSN_g3Mz2",
        "outputId": "977ed77b-774a-427b-d181-561c411708b0"
      },
      "execution_count": 71,
      "outputs": [
        {
          "output_type": "stream",
          "name": "stdout",
          "text": [
            "root\n",
            " |-- features: vector (nullable = true)\n",
            " |-- label: integer (nullable = true)\n",
            "\n"
          ]
        }
      ]
    },
    {
      "cell_type": "code",
      "source": [
        "#Split into training & testing Dataframe\n",
        "training_df,test_df = model_df.randomSplit([0.75,0.25])"
      ],
      "metadata": {
        "id": "1X196c413PHF"
      },
      "execution_count": 72,
      "outputs": []
    },
    {
      "cell_type": "code",
      "source": [
        "\n",
        "#Create a logistic regression model object\n",
        "from pyspark.ml.classification import LogisticRegression\n",
        "log_reg=LogisticRegression().fit(training_df)"
      ],
      "metadata": {
        "id": "GcjyXAVV3RKm"
      },
      "execution_count": 73,
      "outputs": []
    },
    {
      "cell_type": "code",
      "source": [
        "lr_summary=log_reg.summary"
      ],
      "metadata": {
        "id": "Gu7mZ1wB3UCF"
      },
      "execution_count": 74,
      "outputs": []
    },
    {
      "cell_type": "code",
      "source": [
        "#Overall accuracy of the classification model\n",
        "lr_summary.accuracy"
      ],
      "metadata": {
        "colab": {
          "base_uri": "https://localhost:8080/"
        },
        "id": "WJXAdzIg3VLn",
        "outputId": "864fa9f7-3a6c-43c6-9c1d-82084c1187c6"
      },
      "execution_count": 75,
      "outputs": [
        {
          "output_type": "execute_result",
          "data": {
            "text/plain": [
              "0.9609615615375385"
            ]
          },
          "metadata": {},
          "execution_count": 75
        }
      ]
    },
    {
      "cell_type": "code",
      "source": [
        "#Precision of both classes\n",
        "print(lr_summary.precisionByLabel)"
      ],
      "metadata": {
        "colab": {
          "base_uri": "https://localhost:8080/"
        },
        "id": "w-DeNEsP3Zln",
        "outputId": "92b40300-e6ef-4f90-b0ed-b2849302e7f2"
      },
      "execution_count": 76,
      "outputs": [
        {
          "output_type": "stream",
          "name": "stdout",
          "text": [
            "[0.966974563024016, 0.8696309086984675]\n"
          ]
        }
      ]
    },
    {
      "cell_type": "code",
      "source": [
        "\n",
        "#Get Preditions\n",
        "predictions = log_reg.transform(test_df)"
      ],
      "metadata": {
        "id": "8TM1NqlB3hkQ"
      },
      "execution_count": 77,
      "outputs": []
    },
    {
      "cell_type": "code",
      "source": [
        "predictions.select('label','prediction').show(50)"
      ],
      "metadata": {
        "colab": {
          "base_uri": "https://localhost:8080/"
        },
        "id": "Fo6RwDZd3mWy",
        "outputId": "aca9648a-5a81-4524-db52-a5ab6893b6d9"
      },
      "execution_count": 78,
      "outputs": [
        {
          "output_type": "stream",
          "name": "stdout",
          "text": [
            "+-----+----------+\n",
            "|label|prediction|\n",
            "+-----+----------+\n",
            "|    0|       0.0|\n",
            "|    1|       1.0|\n",
            "|    1|       1.0|\n",
            "|    0|       0.0|\n",
            "|    1|       1.0|\n",
            "|    0|       0.0|\n",
            "|    0|       0.0|\n",
            "|    1|       1.0|\n",
            "|    0|       0.0|\n",
            "|    0|       0.0|\n",
            "|    0|       0.0|\n",
            "|    0|       0.0|\n",
            "|    0|       0.0|\n",
            "|    1|       1.0|\n",
            "|    0|       0.0|\n",
            "|    0|       0.0|\n",
            "|    0|       0.0|\n",
            "|    1|       0.0|\n",
            "|    1|       1.0|\n",
            "|    0|       1.0|\n",
            "|    0|       0.0|\n",
            "|    1|       1.0|\n",
            "|    1|       0.0|\n",
            "|    1|       1.0|\n",
            "|    0|       0.0|\n",
            "|    1|       1.0|\n",
            "|    0|       0.0|\n",
            "|    1|       1.0|\n",
            "|    1|       1.0|\n",
            "|    1|       1.0|\n",
            "|    0|       0.0|\n",
            "|    0|       0.0|\n",
            "|    1|       0.0|\n",
            "|    0|       0.0|\n",
            "|    0|       1.0|\n",
            "|    0|       0.0|\n",
            "|    1|       0.0|\n",
            "|    0|       0.0|\n",
            "|    0|       0.0|\n",
            "|    1|       1.0|\n",
            "|    0|       0.0|\n",
            "|    0|       0.0|\n",
            "|    0|       0.0|\n",
            "|    1|       1.0|\n",
            "|    0|       0.0|\n",
            "|    1|       1.0|\n",
            "|    0|       0.0|\n",
            "|    0|       0.0|\n",
            "|    0|       0.0|\n",
            "|    0|       0.0|\n",
            "+-----+----------+\n",
            "only showing top 50 rows\n",
            "\n"
          ]
        }
      ]
    },
    {
      "cell_type": "code",
      "source": [],
      "metadata": {
        "id": "a6erHiIt3y4W"
      },
      "execution_count": 78,
      "outputs": []
    }
  ]
}