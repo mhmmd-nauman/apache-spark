{
 "cells": [
  {
   "cell_type": "code",
   "execution_count": 1,
   "id": "4b641470",
   "metadata": {},
   "outputs": [],
   "source": [
    "import findspark\n",
    "findspark.init()"
   ]
  },
  {
   "cell_type": "code",
   "execution_count": 17,
   "id": "4c1c8f0b",
   "metadata": {},
   "outputs": [],
   "source": [
    "from pyspark.sql import SparkSession, SQLContext\n",
    "spark = SparkSession.builder.master(\"local\").appName(\"Test Spark\").config(\"spark.some.config.option\", \"some-value\").getOrCreate()"
   ]
  },
  {
   "cell_type": "code",
   "execution_count": 18,
   "id": "a0adf0be",
   "metadata": {},
   "outputs": [],
   "source": [
    "sc = spark.sparkContext"
   ]
  },
  {
   "cell_type": "code",
   "execution_count": 19,
   "id": "70947e2e",
   "metadata": {},
   "outputs": [
    {
     "data": {
      "text/html": [
       "\n",
       "            <div>\n",
       "                <p><b>SparkSession - in-memory</b></p>\n",
       "                \n",
       "        <div>\n",
       "            <p><b>SparkContext</b></p>\n",
       "\n",
       "            <p><a href=\"http://DESKTOP-HF2TGGL.Home:4041\">Spark UI</a></p>\n",
       "\n",
       "            <dl>\n",
       "              <dt>Version</dt>\n",
       "                <dd><code>v3.3.0</code></dd>\n",
       "              <dt>Master</dt>\n",
       "                <dd><code>local</code></dd>\n",
       "              <dt>AppName</dt>\n",
       "                <dd><code>ML_learning</code></dd>\n",
       "            </dl>\n",
       "        </div>\n",
       "        \n",
       "            </div>\n",
       "        "
      ],
      "text/plain": [
       "<pyspark.sql.session.SparkSession at 0x2a8f25c9f10>"
      ]
     },
     "execution_count": 19,
     "metadata": {},
     "output_type": "execute_result"
    }
   ],
   "source": [
    "spark"
   ]
  },
  {
   "cell_type": "code",
   "execution_count": 20,
   "id": "3e2fd604",
   "metadata": {},
   "outputs": [],
   "source": [
    "sqlcontext = SQLContext(sc)"
   ]
  },
  {
   "cell_type": "code",
   "execution_count": 21,
   "id": "eeb29472",
   "metadata": {},
   "outputs": [],
   "source": [
    "from pyspark.ml.feature import VectorAssembler\n",
    "from pyspark.ml.regression import LinearRegression\n",
    "from pyspark.ml.evaluation import RegressionEvaluator"
   ]
  },
  {
   "cell_type": "code",
   "execution_count": 22,
   "id": "c0dae75c",
   "metadata": {},
   "outputs": [],
   "source": [
    "data = sqlcontext.read.csv(path='Agriculture-Department.csv', header = True, inferSchema = True)"
   ]
  },
  {
   "cell_type": "code",
   "execution_count": 8,
   "id": "c69f03af",
   "metadata": {},
   "outputs": [
    {
     "ename": "NameError",
     "evalue": "name 'spark' is not defined",
     "output_type": "error",
     "traceback": [
      "\u001b[1;31m---------------------------------------------------------------------------\u001b[0m",
      "\u001b[1;31mNameError\u001b[0m                                 Traceback (most recent call last)",
      "\u001b[1;32mC:\\Users\\DRNAUM~1\\AppData\\Local\\Temp/ipykernel_7428/3937703550.py\u001b[0m in \u001b[0;36m<module>\u001b[1;34m\u001b[0m\n\u001b[1;32m----> 1\u001b[1;33m \u001b[0mdata\u001b[0m\u001b[1;33m=\u001b[0m\u001b[0mspark\u001b[0m\u001b[1;33m.\u001b[0m\u001b[0mread\u001b[0m\u001b[1;33m.\u001b[0m\u001b[0mformat\u001b[0m\u001b[1;33m(\u001b[0m\u001b[1;34m\"csv\"\u001b[0m\u001b[1;33m)\u001b[0m\u001b[1;33m.\u001b[0m\u001b[0moption\u001b[0m\u001b[1;33m(\u001b[0m\u001b[1;34m\"header\"\u001b[0m\u001b[1;33m,\u001b[0m\u001b[1;34m\"true\"\u001b[0m\u001b[1;33m,\u001b[0m\u001b[1;34m\"inferSchema\"\u001b[0m\u001b[1;33m,\u001b[0m\u001b[1;34m\"True\"\u001b[0m\u001b[1;33m)\u001b[0m\u001b[1;33m.\u001b[0m\u001b[0mload\u001b[0m\u001b[1;33m(\u001b[0m\u001b[1;34m\"Agriculture-Department.csv\"\u001b[0m\u001b[1;33m)\u001b[0m\u001b[1;33m\u001b[0m\u001b[1;33m\u001b[0m\u001b[0m\n\u001b[0m",
      "\u001b[1;31mNameError\u001b[0m: name 'spark' is not defined"
     ]
    }
   ],
   "source": [
    "#"
   ]
  },
  {
   "cell_type": "code",
   "execution_count": 23,
   "id": "7a3eccad",
   "metadata": {},
   "outputs": [
    {
     "name": "stdout",
     "output_type": "stream",
     "text": [
      "+--------------------+-----------+----------+------+-----------+--------------+----------------+---+--------------+------------------+------------------+------------------+------------------+------------------+-----------------+-------------+-------+\n",
      "|  Application Status|Merit Score|  Domicile|Gender|   Province|Admission Test|Admission Test 2|SSC|TerminalDegree|Optional Subject 1|Optional Subject 2|Optional Subject 3|Optional Subject 4|Optional Subject 5|Document Verified|English Marks|Offered|\n",
      "+--------------------+-----------+----------+------+-----------+--------------+----------------+---+--------------+------------------+------------------+------------------+------------------+------------------+-----------------+-------------+-------+\n",
      "|Application Received|    908.813|      OPEN|  male|Baluchistan|             0|               0|594|           702|                 0|                 0|                 0|                 0|                 0|                0|            0|     No|\n",
      "|Application Fee R...|      678.0|      OPEN|  male|       FATA|             0|               0|759|           633|                97|               116|                47|                81|                30|                1|            0|     No|\n",
      "|Application Fee R...|      763.0|Bahawalpur|  male|     Punjab|            48|               0|866|           720|               147|                42|                33|               138|               101|                0|            0|     No|\n",
      "|Application Fee R...|      719.0|Bahawalpur|  male|     Punjab|            52|               0|672|           672|               127|               107|               143|                85|                45|                0|            0|     No|\n",
      "|Application Fee R...|     1025.0|Bahawalpur|female|     Punjab|            71|              71|867|           966|               156|               184|               184|               184|                 0|                0|            0|     No|\n",
      "|Application Fee R...|      972.0|Bahawalpur|  male|     Punjab|            87|              87|932|           962|               173|                42|                48|               184|               179|                1|            0|     No|\n",
      "|Application Fee R...|      539.0|Bahawalpur|  male|     Punjab|            40|               0|482|           509|                69|                86|                93|                34|                 0|                0|            0|     No|\n",
      "|Application Fee R...|      863.0|Bahawalpur|  male|     Punjab|            50|              41|763|           818|               131|               148|               164|               157|                42|                0|            0|     No|\n",
      "|Application Fee R...|      618.0|Bahawalpur|  male|     Punjab|            44|               0|677|           579|                77|                43|                89|                95|               107|                0|            0|     No|\n",
      "|Application Fee R...|      678.0|Bahawalpur|  male|     Punjab|            52|               0|686|           631|                93|                93|                99|               132|                42|                0|            0|     No|\n",
      "|Admission Fee Cha...|      628.0|Bahawalpur|female|     Punjab|            50|               0|521|           588|                81|               102|               106|                46|                84|                1|            0|    Yes|\n",
      "|Application Fee R...|      643.0|Bahawalpur|  male|     Punjab|            47|               0|727|           601|               132|               119|                78|                71|                39|                0|            0|     No|\n",
      "|Admission Fee Cha...|      965.0|Bahawalpur|  male|     Punjab|            67|               0|862|           903|               161|               179|               146|                45|                 0|                1|            0|    Yes|\n",
      "|Admission Fee Cha...|      843.0|Bahawalpur|  male|     Punjab|            43|               0|889|           805|                 0|                 0|                 0|                 0|                 0|                1|            0|    Yes|\n",
      "|Application Fee R...|      692.0|Bahawalpur|  male|     Punjab|            44|               0|741|           653|               108|               113|               106|                40|               101|                0|            0|     No|\n",
      "|Application Fee R...|      650.0|Bahawalpur|  male|     Punjab|            54|               0|778|           601|                71|               111|                98|                42|               111|                0|            0|     No|\n",
      "|Admission Fee Cha...|      983.0|Bahawalpur|  male|     Punjab|            66|               0|861|           922|               177|               155|               154|               181|                46|                1|            0|    Yes|\n",
      "|Admission Fee Cha...|      609.0|Bahawalpur|  male|     Punjab|            53|               0|557|           561|               117|                27|                35|               103|                96|                1|            0|    Yes|\n",
      "|Admission Fee Cha...|      691.0|Bahawalpur|female|     Punjab|            41|               0|779|           655|               118|                80|               135|                85|                95|                1|            0|    Yes|\n",
      "|Application Fee R...|      726.0|Bahawalpur|  male|     Punjab|            62|               0|794|           674|               166|               106|               118|                 0|                41|                0|            0|     No|\n",
      "+--------------------+-----------+----------+------+-----------+--------------+----------------+---+--------------+------------------+------------------+------------------+------------------+------------------+-----------------+-------------+-------+\n",
      "only showing top 20 rows\n",
      "\n"
     ]
    }
   ],
   "source": [
    "data.show()"
   ]
  },
  {
   "cell_type": "code",
   "execution_count": 28,
   "id": "de29a233",
   "metadata": {},
   "outputs": [],
   "source": [
    "data2 =data.select(data.TerminalDegree,data.SSC.alias('label'))\n",
    "train, test = data2.randomSplit([0.9,0.1])"
   ]
  },
  {
   "cell_type": "code",
   "execution_count": 29,
   "id": "9bc1796a",
   "metadata": {},
   "outputs": [
    {
     "name": "stdout",
     "output_type": "stream",
     "text": [
      "+--------+-----+\n",
      "|features|label|\n",
      "+--------+-----+\n",
      "|   [0.0]|    0|\n",
      "| [483.0]|  652|\n",
      "| [487.0]|  759|\n",
      "| [495.0]|  615|\n",
      "| [497.0]|  578|\n",
      "+--------+-----+\n",
      "only showing top 5 rows\n",
      "\n"
     ]
    }
   ],
   "source": [
    "assembler=VectorAssembler().setInputCols(['TerminalDegree',]).setOutputCol('features')\n",
    "train01 = assembler.transform(train)\n",
    "train02 = train01.select(\"features\",\"label\")\n",
    "train02.show(5)"
   ]
  },
  {
   "cell_type": "code",
   "execution_count": 30,
   "id": "04ec277b",
   "metadata": {},
   "outputs": [],
   "source": [
    "lr = LinearRegression()\n",
    "model = lr.fit(train02)"
   ]
  },
  {
   "cell_type": "code",
   "execution_count": 31,
   "id": "2bcc1693",
   "metadata": {},
   "outputs": [
    {
     "name": "stdout",
     "output_type": "stream",
     "text": [
      "+--------+-----+-----------------+\n",
      "|features|label|       prediction|\n",
      "+--------+-----+-----------------+\n",
      "| [481.0]|  508|611.2325972791881|\n",
      "| [483.0]|  657|612.4880594350288|\n",
      "| [487.0]|  686|614.9989837467101|\n",
      "| [515.0]|  550|632.5754539284795|\n",
      "| [520.0]|  581|635.7141093180812|\n",
      "+--------+-----+-----------------+\n",
      "only showing top 5 rows\n",
      "\n"
     ]
    }
   ],
   "source": [
    "test01 = assembler.transform(test)\n",
    "test02 = test01.select('features', 'label')\n",
    "test03 = model.transform(test02)\n",
    "test03.show(5)"
   ]
  },
  {
   "cell_type": "code",
   "execution_count": 37,
   "id": "a7e7b375",
   "metadata": {},
   "outputs": [],
   "source": [
    "import matplotlib.pyplot as plt\n",
    "import numpy as np\n",
    "import pandas as pd\n",
    "from numpy import polyfit"
   ]
  },
  {
   "cell_type": "code",
   "execution_count": 38,
   "id": "8e1e88f6",
   "metadata": {},
   "outputs": [
    {
     "ename": "NameError",
     "evalue": "name 'x' is not defined",
     "output_type": "error",
     "traceback": [
      "\u001b[1;31m---------------------------------------------------------------------------\u001b[0m",
      "\u001b[1;31mNameError\u001b[0m                                 Traceback (most recent call last)",
      "\u001b[1;32mC:\\Users\\DRNAUM~1\\AppData\\Local\\Temp/ipykernel_7428/1518503925.py\u001b[0m in \u001b[0;36m<module>\u001b[1;34m\u001b[0m\n\u001b[0;32m      4\u001b[0m fig.add_trace(\n\u001b[0;32m      5\u001b[0m     go.Scatter(\n\u001b[1;32m----> 6\u001b[1;33m         \u001b[0mx\u001b[0m\u001b[1;33m=\u001b[0m\u001b[0mx\u001b[0m\u001b[1;33m,\u001b[0m\u001b[1;33m\u001b[0m\u001b[1;33m\u001b[0m\u001b[0m\n\u001b[0m\u001b[0;32m      7\u001b[0m         \u001b[0my\u001b[0m\u001b[1;33m=\u001b[0m\u001b[0my\u001b[0m\u001b[1;33m,\u001b[0m\u001b[1;33m\u001b[0m\u001b[1;33m\u001b[0m\u001b[0m\n\u001b[0;32m      8\u001b[0m         \u001b[0mmode\u001b[0m\u001b[1;33m=\u001b[0m\u001b[1;34m'markers'\u001b[0m\u001b[1;33m,\u001b[0m\u001b[1;33m\u001b[0m\u001b[1;33m\u001b[0m\u001b[0m\n",
      "\u001b[1;31mNameError\u001b[0m: name 'x' is not defined"
     ]
    }
   ],
   "source": [
    "import chart_studio.plotly as py\n",
    "import plotly.graph_objects as go\n",
    "fig = go.Figure()\n",
    "fig.add_trace(\n",
    "    go.Scatter(\n",
    "        x=x,\n",
    "        y=y,\n",
    "        mode='markers',\n",
    "        name='Original_Test',\n",
    "    ))\n",
    "fig.add_trace(\n",
    "    go.Scatter(\n",
    "        x=x,\n",
    "        y=y_pred,\n",
    "        name='Predicted'\n",
    "    ))\n",
    "fig.update_layout(\n",
    "    title=\"Linear Regression\",\n",
    "    xaxis_title=\"Displacement\",\n",
    "    yaxis_title=\"Horse Power\",\n",
    "    font=dict(\n",
    "        family=\"Courier New, monospace\",\n",
    "        size=18,\n",
    "        color=\"#7f7f7f\"\n",
    "    )\n",
    ")\n",
    "fig.show()"
   ]
  },
  {
   "cell_type": "code",
   "execution_count": 39,
   "id": "3eae22eb",
   "metadata": {},
   "outputs": [
    {
     "name": "stdout",
     "output_type": "stream",
     "text": [
      "0.4544376523031217\n",
      "6090.572336468868\n",
      "78.04211899012525\n",
      "60.64943273288574\n"
     ]
    }
   ],
   "source": [
    "evaluator = RegressionEvaluator()\n",
    "print(evaluator.evaluate(test03,\n",
    "{evaluator.metricName: \"r2\"})\n",
    ")\n",
    "print(evaluator.evaluate(test03,\n",
    "{evaluator.metricName: \"mse\"})\n",
    ")\n",
    "print(evaluator.evaluate(test03,\n",
    "{evaluator.metricName: \"rmse\"})\n",
    ")\n",
    "print(evaluator.evaluate(test03,\n",
    "{evaluator.metricName: \"mae\"})\n",
    ")"
   ]
  },
  {
   "cell_type": "code",
   "execution_count": null,
   "id": "e2240feb",
   "metadata": {},
   "outputs": [],
   "source": [
    "#testErr = labelsAndPredictions.filter(lambda (v, p): v != p).count() / float(testData.count())"
   ]
  },
  {
   "cell_type": "code",
   "execution_count": null,
   "id": "611305f0",
   "metadata": {},
   "outputs": [],
   "source": [
    "#print('Test Error = ' + str(testErr))\n",
    "print('Learned classification tree model:')\n",
    "print(model.toDebugString())"
   ]
  },
  {
   "cell_type": "code",
   "execution_count": null,
   "id": "c5086e65",
   "metadata": {},
   "outputs": [],
   "source": []
  }
 ],
 "metadata": {
  "kernelspec": {
   "display_name": "Python 3 (ipykernel)",
   "language": "python",
   "name": "python3"
  },
  "language_info": {
   "codemirror_mode": {
    "name": "ipython",
    "version": 3
   },
   "file_extension": ".py",
   "mimetype": "text/x-python",
   "name": "python",
   "nbconvert_exporter": "python",
   "pygments_lexer": "ipython3",
   "version": "3.9.7"
  }
 },
 "nbformat": 4,
 "nbformat_minor": 5
}
